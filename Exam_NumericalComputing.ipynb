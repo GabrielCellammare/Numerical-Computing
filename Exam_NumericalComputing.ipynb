{
    "cells": [
        {
            "attachments": {},
            "cell_type": "markdown",
            "metadata": {},
            "source": [
                "# Esame 04-04-2023 (Calcolo Numerico 21/22)"
            ]
        },
        {
            "attachments": {},
            "cell_type": "markdown",
            "metadata": {},
            "source": [
                "### Gabriel Cellammare\n",
                "### Mat: 735118\n",
                "#### Email: g.cellammare1@studenti.uniba.it\n"
            ]
        },
        {
            "attachments": {},
            "cell_type": "markdown",
            "metadata": {},
            "source": [
                "# Esercizio 1"
            ]
        },
        {
            "attachments": {},
            "cell_type": "markdown",
            "metadata": {},
            "source": [
                "Data la seguente matrice A:\n",
                "$$\n",
                "A = \\left[\\begin{array}{ccc}\n",
                "1/2&1/12&0&0\\\\\n",
                "1/2&1/12&1/3&0\\\\\n",
                "0&1/2&1/3&1/2\\\\\n",
                "0&0&1/12&1/2\\\\\n",
                "\\end{array}\\right]\n",
                "$$\n"
            ]
        },
        {
            "attachments": {},
            "cell_type": "markdown",
            "metadata": {},
            "source": [
                "### 1.1\n",
                "\n",
                "#### Calcolare la fattorizzazione LU con pivot totale di A tale che PAQ = LU."
            ]
        },
        {
            "cell_type": "code",
            "execution_count": 3,
            "metadata": {},
            "outputs": [
                {
                    "name": "stdout",
                    "output_type": "stream",
                    "text": [
                        "Matrice A\n",
                        " [[0.5        0.08333333 0.         0.        ]\n",
                        " [0.5        0.08333333 0.33333333 0.        ]\n",
                        " [0.         0.5        0.33333333 0.5       ]\n",
                        " [0.         0.         0.08333333 0.5       ]]\n",
                        "\n",
                        "Rango della matrice:  4\n",
                        "\n",
                        "Determinante della matrice:  -0.041666666666666664\n"
                    ]
                }
            ],
            "source": [
                "#Eseguo i vari import\n",
                "\n",
                "import numpy as np\n",
                "import sympy as sy\n",
                "import scipy.linalg as la\n",
                "from scipy.linalg import hilbert\n",
                "\n",
                "#Inizializzo la matrice\n",
                "A = np.array([[1/2,1/12,0,0],[1/2,1/12,1/3,0],[0,1/2,1/3,1/2],[0,0,1/12,1/2]])\n",
                "print(\"Matrice A\\n\",A)\n",
                "\n",
                "\n",
                "rankA = np.linalg.matrix_rank(A)\n",
                "print(\"\\nRango della matrice: \", rankA)\n",
                "print(\"\\nDeterminante della matrice: \", np.linalg.det(A))\n"
            ]
        },
        {
            "cell_type": "code",
            "execution_count": 4,
            "metadata": {},
            "outputs": [],
            "source": [
                "def fattLuTotale(A):\n",
                "    \n",
                "            # Sappiamo che per eseguire la \n",
                "            # fattorizzazione LU necessito di P e Q \n",
                "            # matrici di permutazione e L matrice triangolare inferiore e U \n",
                "            # triangolare superiore\n",
                "            \n",
                "            permuR= 0 #utilizzate per il calcolo finale del determinante\n",
                "            permuC = 0\n",
                "            \n",
                "            n = A.shape[0]\n",
                "            \n",
                "            Q = np.asmatrix(np.eye(n)) #matrice di permutazione \n",
                "            #Q di dimensione n\n",
                "            P = np.asmatrix(np.eye(n)) #matrice di permutazione P di dimensione n\n",
                "            L = np.asmatrix(np.zeros([n,n])) #inizializzo una matrice vuota di dimensione n\n",
                "\n",
                "            A0 = np.asmatrix(np.copy(A)) #copia di A che mi servirà per costruire U\n",
                "\n",
                "            i = 0\n",
                "            flag=0; #Utilizzato per casi limite\n",
                "            \n",
                "            for i in range (0,n-1):\n",
                "                \n",
                "                #Nella fattorizzazione LU con pivot totale scambio sia righe e colonne di A e righe e colonne di P e Q\n",
                "              \n",
                "                pivot = np.argmax(np.abs(A0[i:n,i:n])) #Ricerco l'elemento più grande della matrice A\n",
                "\n",
                "               \n",
                "                pivot_rig = pivot//(n - i) #Trovo la riga corrispondente\n",
                "                \n",
                "               \n",
                "                \n",
                "                pivot_col = pivot - (n - i)*pivot_rig #Trovo la colonna corrispondente\n",
                "                \n",
                "               \n",
                "                pivot_rig = pivot_rig + i #Per rientrare nella matrice n*n\n",
                "                pivot_col = pivot_col + i\n",
                "   \n",
                "                #Scambio righe e colonne di A\n",
                "                   \n",
                "                   \n",
                "                A0[[i, pivot_rig],:] = A0[[pivot_rig,i],:]\n",
                "                A0[:,[i,pivot_col]] = A0[:,[pivot_col,i]]\n",
                "                \n",
                "                #print(\"\\n Matrice A0: \\n\", A0)\n",
                "                \n",
                "\n",
                "                #scambio righe di P e colonne di Q\n",
                "                temp = P\n",
                "                \n",
                "                P[ [i, pivot_rig],:] = P[[pivot_rig,i],:]\n",
                "                \n",
                "                if i != pivot_rig:\n",
                "                    permuR += 1  #per determinante\n",
                "                    \n",
                "                temp = Q\n",
                "                \n",
                "                Q[ :,[i,pivot_col]] = Q[:,[pivot_col,i]]\n",
                "                \n",
                "                if i != pivot_col:\n",
                "                    permuC += 1\n",
                "\n",
                "                if i >= 1:\n",
                "                    L[[i, pivot_rig],:]=L[[pivot_rig,i],:] #scambio righe di L à\n",
                "                    #Maggiore di 1 perchè nella prima iterata costruisco L\n",
                "\n",
                "\n",
                "                if(A0[i,i]==0): #Potremmo avere errori in caso di matrici mal condizionate\n",
                "                    flag=1\n",
                "                    return (flag,L + np.eye(n),A0,P,Q,permuR,permuC)  \n",
                "             \n",
                "             \n",
                "                L[i+1:n,i] = A0[i+1:n,i]/(A0[i,i]) #L21 \n",
                "                \n",
                "            \n",
                "                A0[i+1:n,i+1:n] = A0[i+1:n,i+1:n] - (L[i+1:n,i]*A0[i,i+1:n]) #Di tipo matrix quindi prodotto riga per colonna\n",
                "                \n",
                "                #print(\"\\nSottomatrice  risultante:\",A0[i+1:n,i+1:n])\n",
                "                \n",
                "                \n",
                "                #print(\"\\n Matrice A0 finale: \\n\", A0)\n",
                "                \n",
                "                A0[i+1:n,i] = 0\n",
                "                \n",
                "   \n",
                "\n",
                "            #Somma gli elementi e restituisce tutto L\n",
                "            return (flag,L + np.eye(n),A0,P,Q,permuR,permuC)       \n",
                "   "
            ]
        },
        {
            "cell_type": "code",
            "execution_count": 5,
            "metadata": {},
            "outputs": [
                {
                    "name": "stdout",
                    "output_type": "stream",
                    "text": [
                        "\n",
                        " Matrice L: \n",
                        " [[1. 0. 0. 0.]\n",
                        " [0. 1. 0. 0.]\n",
                        " [0. 0. 1. 0.]\n",
                        " [1. 0. 0. 1.]]\n",
                        "\n",
                        " Matrice U: \n",
                        " [[0.5        0.08333333 0.         0.        ]\n",
                        " [0.         0.5        0.5        0.33333333]\n",
                        " [0.         0.         0.5        0.08333333]\n",
                        " [0.         0.         0.         0.33333333]]\n",
                        "\n",
                        " Matrice P: \n",
                        " [[1. 0. 0. 0.]\n",
                        " [0. 0. 1. 0.]\n",
                        " [0. 0. 0. 1.]\n",
                        " [0. 1. 0. 0.]]\n",
                        "\n",
                        " Matrice Q: \n",
                        " [[1. 0. 0. 0.]\n",
                        " [0. 1. 0. 0.]\n",
                        " [0. 0. 0. 1.]\n",
                        " [0. 0. 1. 0.]]\n"
                    ]
                }
            ],
            "source": [
                "#Controlliamo che A sia quadrata e che sia non singolare (rango massimo)\n",
                "\n",
                "if(A.shape[0]==A.shape[1]):\n",
                "    \n",
                "    #Controllo che sia non singolare\n",
                "    \n",
                "    if(rankA==A.shape[0]):\n",
                "        flag,L,U,P,Q,permR,permC = fattLuTotale(A)\n",
                "        if(flag==1):\n",
                "            print(\"\\nMatrice mal condizionata. \\nVerificare il malcondizionamento al punto 1.3\")\n",
                "            print(\"\\n Matrice L: \\n\", L)\n",
                "            print(\"\\n Matrice U: \\n\", U)\n",
                "            print(\"\\n Matrice P: \\n\", P)\n",
                "            print(\"\\n Matrice Q: \\n\", Q) \n",
                "        else:\n",
                "            print(\"\\n Matrice L: \\n\", L)\n",
                "            print(\"\\n Matrice U: \\n\", U)\n",
                "            print(\"\\n Matrice P: \\n\", P)\n",
                "            print(\"\\n Matrice Q: \\n\", Q) \n",
                "            \n",
                "    else:\n",
                "        print(\"Matrice singolare\")\n",
                "    \n",
                "else:\n",
                "        print(\"Matrice non quadrata\")\n"
            ]
        },
        {
            "attachments": {},
            "cell_type": "markdown",
            "metadata": {},
            "source": [
                "### 1.2\n",
                "#### Calcolare l'inversa di A usando la fattorizzazione ottenuta al punto 1.1 e verificare di aver ottenuto un risultato significativo."
            ]
        },
        {
            "cell_type": "code",
            "execution_count": 4,
            "metadata": {},
            "outputs": [
                {
                    "name": "stdout",
                    "output_type": "stream",
                    "text": [
                        "\n",
                        "Matrice di partenza A: \n",
                        " [[0.5        0.08333333 0.         0.        ]\n",
                        " [0.5        0.08333333 0.33333333 0.        ]\n",
                        " [0.         0.5        0.33333333 0.5       ]\n",
                        " [0.         0.         0.08333333 0.5       ]]\n",
                        "\n",
                        "\n",
                        "Matrice Inversa di A calcolata con fattorizzazione LU (Pivot totale): \n",
                        "[[ 1.75        0.25       -0.33333333  0.33333333]\n",
                        " [ 1.5        -1.5         2.         -2.        ]\n",
                        " [-3.          3.          0.          0.        ]\n",
                        " [ 0.5        -0.5         0.          2.        ]]\n",
                        "\n",
                        "\n",
                        "Matrice Inversa di A da numpy: \n",
                        "[[ 1.75        0.25       -0.33333333  0.33333333]\n",
                        " [ 1.5        -1.5         2.         -2.        ]\n",
                        " [-3.          3.          0.          0.        ]\n",
                        " [ 0.5        -0.5         0.          2.        ]]\n",
                        "\n",
                        "\n"
                    ]
                }
            ],
            "source": [
                "# 1.2 Calcolare l’inversa di A utilizzando la fattorizzazione del punto precedente. \n",
                "# Bisogna risolvere n sistemi lineari. \n",
                "n=A.shape[0]\n",
                "\n",
                "I = np.identity(n)\n",
                "\n",
                "X = np.asmatrix(np.zeros([n,n])) #Matrice inversa\n",
                "\n",
                "flag=0\n",
                "\n",
                "for i in range (0,n) or flag==0:\n",
                "    \n",
                "    \n",
                "    if(np.linalg.det(U)==0):\n",
                "        flag=1; #Non risolvibile con LU totale, probabilmente, se la matrice originale è non singolare, è possibile trovare \n",
                "                #l'inversa attraverso altri metodi\n",
                "        \n",
                "\n",
                "    else:\n",
                "        #Vettore identità per identificare le colonne\n",
                "        e=np.asmatrix([row[i] for row in I])\n",
                "        \n",
                "        #print(\"\\n\\nindice i: \",i)\n",
                "        #print(\"\\n\\n\\n\",e)\n",
                "        \n",
                "        z = np.linalg.solve(L, P*e.T)\n",
                "        \n",
                "        y = np.linalg.solve(U, z)\n",
                "        \n",
                "        #x trovata\n",
                "        x = Q*y\n",
                "        \n",
                "        for j in range (0,n):\n",
                "            X[j,i] = x[j]\n",
                "        \n",
                "\n",
                "if(flag==0):\n",
                "\n",
                "    print(\"\\nMatrice di partenza A: \\n\", A)\n",
                "    print(\"\\n\")        \n",
                "    print(\"Matrice Inversa di A calcolata con fattorizzazione LU (Pivot totale): \")\n",
                "    print(X)\n",
                "\n",
                "    print(\"\\n\")\n",
                "    print(\"Matrice Inversa di A da numpy: \")\n",
                "    print(np.linalg.inv(A))\n",
                "    print(\"\\n\")\n",
                "    \n",
                "\n",
                "else:\n",
                "    print(\"Impossibile risolvere il sistema con la Matrice U: \\n\",U)\n"
            ]
        },
        {
            "attachments": {},
            "cell_type": "markdown",
            "metadata": {},
            "source": [
                "### 1.3\n",
                "#### Calcolare il condizionamento di A in norma infinito, il condizionamento delle matrici U, L, P e Q sempre in norma infinito. Commentare i risultati."
            ]
        },
        {
            "cell_type": "code",
            "execution_count": 5,
            "metadata": {},
            "outputs": [
                {
                    "name": "stdout",
                    "output_type": "stream",
                    "text": [
                        "Condizionamento di A:  9.333333333333332\n",
                        "Condizionamento di P:  1.0\n",
                        "Condizionamento di L:  4.0\n",
                        "Condizionamento di U:  7.333333333333333\n",
                        "Condizionamento di Q:  1.0\n"
                    ]
                }
            ],
            "source": [
                "print(\"Condizionamento di A: \", np.linalg.cond(A,np.Inf))\n",
                "print(\"Condizionamento di P: \", np.linalg.cond(P,np.Inf))\n",
                "print(\"Condizionamento di L: \", np.linalg.cond(L,np.Inf))\n",
                "print(\"Condizionamento di U: \", np.linalg.cond(U,np.Inf)) #La matrice U prende quasi il condizionamento di A\n",
                "print(\"Condizionamento di Q: \", np.linalg.cond(Q,np.Inf))\n",
                "\n"
            ]
        },
        {
            "attachments": {},
            "cell_type": "markdown",
            "metadata": {},
            "source": [
                "#### La Matrice A non risulta essere particolarmente mal condizionata, ma utilizzando la matrice di Hilbert vediamo come il calcolo dell'inversa tramite fattorizzazione LU, restituisce risultati errati; andando quindi, a disturbare i risultati di output. Ovviamente, aumenta con l'aumentare della dimensione della matrice"
            ]
        },
        {
            "cell_type": "code",
            "execution_count": 6,
            "metadata": {},
            "outputs": [
                {
                    "name": "stdout",
                    "output_type": "stream",
                    "text": [
                        "Condizionamento di K:  1.0974887223507796e+18\n"
                    ]
                }
            ],
            "source": [
                "K =hilbert(15)\n",
                "flagk,Lk,Uk,Pk,Qk,permRk,permCk = fattLuTotale(K)\n",
                "\n",
                "print(\"Condizionamento di K: \", np.linalg.cond(K,np.Inf)) #matrice di Hilbert che risulta \n",
                "#mal condizionata"
            ]
        },
        {
            "cell_type": "code",
            "execution_count": 7,
            "metadata": {},
            "outputs": [
                {
                    "name": "stdout",
                    "output_type": "stream",
                    "text": [
                        "Matrice Inversa di A da fattorizzazione: \n",
                        "[[ 1.52837872e+02 -1.16338213e+04  2.89170585e+05 -3.46056899e+06\n",
                        "   2.34791026e+07 -9.82000950e+07  2.64561211e+08 -4.69637923e+08\n",
                        "   5.63797481e+08 -5.08069783e+08  4.56129148e+08 -4.56823174e+08\n",
                        "   3.62968791e+08 -1.67691784e+08  3.26699213e+07]\n",
                        " [-1.16478707e+04  1.19050200e+06 -3.35868552e+07  4.33726195e+08\n",
                        "  -3.11345905e+09  1.36881004e+10 -3.88459202e+10  7.33703650e+10\n",
                        "  -9.50993285e+10  9.15422384e+10 -7.88830905e+10  6.89358090e+10\n",
                        "  -4.99394648e+10  2.22221745e+10 -4.27874418e+09]\n",
                        " [ 2.90205083e+05 -3.36627576e+07  1.02394746e+09 -1.39613751e+10\n",
                        "   1.04907612e+11 -4.81948694e+11  1.43423223e+12 -2.86320179e+12\n",
                        "   3.95305483e+12 -3.99287914e+12  3.32630811e+12 -2.56410572e+12\n",
                        "   1.66872695e+12 -7.05574493e+11  1.33450972e+11]\n",
                        " [-3.48512118e+06  4.36083771e+08 -1.40023179e+10  1.99573314e+11\n",
                        "  -1.56191145e+12  7.47675546e+12 -2.32676520e+13  4.88407429e+13\n",
                        "  -7.10744675e+13  7.43582485e+13 -5.99788557e+13  4.08537170e+13\n",
                        "  -2.32830446e+13  9.12750296e+12 -1.67704004e+12]\n",
                        " [ 2.37537497e+07 -3.14222237e+09  1.05541434e+11 -1.56608154e+12\n",
                        "   1.27441056e+13 -6.35050723e+13  2.06290513e+14 -4.53224241e+14\n",
                        "   6.88917969e+14 -7.38371664e+14  5.74810731e+14 -3.42511853e+14\n",
                        "   1.62337979e+14 -5.56827942e+13  9.65799326e+12]\n",
                        " [-9.98728052e+07  1.38646316e+10 -4.85905663e+11  7.50440193e+12\n",
                        "  -6.35299254e+13  3.29586748e+14 -1.11580684e+15  2.55380519e+15\n",
                        "  -4.01944892e+15  4.36481533e+15 -3.24802923e+15  1.63946726e+15\n",
                        "  -5.62118306e+14  1.32513383e+14 -1.82869786e+13]\n",
                        " [ 2.70297861e+08 -3.93995049e+10  1.44396456e+12 -2.32709709e+13\n",
                        "   2.05348877e+14 -1.10953996e+15  3.90624806e+15 -9.26024313e+15\n",
                        "   1.49422058e+16 -1.62138945e+16  1.12834759e+16 -4.38971974e+15\n",
                        "   4.54934613e+14  2.84866236e+14 -8.18159191e+13]\n",
                        " [-4.79280550e+08  7.38995908e+10 -2.84989410e+12  4.81398987e+13\n",
                        "  -4.43717802e+14  2.49490885e+15 -9.09413019e+15  2.21372714e+16\n",
                        "  -3.61124788e+16  3.82763534e+16 -2.35758135e+16  4.58856150e+15\n",
                        "   4.05121832e+15 -2.99291626e+15  6.25379663e+14]\n",
                        " [ 5.61757413e+08 -9.27592436e+10  3.79119426e+12 -6.73022011e+13\n",
                        "   6.46957578e+14 -3.76350611e+15  1.40550802e+16 -3.45596298e+16\n",
                        "   5.55166480e+16 -5.45341743e+16  2.42376029e+16  9.38040384e+15\n",
                        "  -1.89346271e+16  9.92342593e+15 -1.90457815e+15]\n",
                        " [-4.61121673e+08  8.11409124e+10 -3.47941528e+12  6.40043133e+13\n",
                        "  -6.30261137e+14  3.70910119e+15 -1.37837132e+16  3.28194777e+16\n",
                        "  -4.81097315e+16  3.50454992e+16  8.41555881e+15 -4.45096871e+16\n",
                        "   4.25018348e+16 -1.89153095e+16  3.39662560e+15]\n",
                        " [ 3.48150082e+08 -5.86187255e+10  2.41578178e+12 -4.26038655e+13\n",
                        "   3.98375771e+14 -2.18066669e+15  7.20808543e+15 -1.35706337e+16\n",
                        "   8.90346241e+15  2.09077207e+16 -6.39133288e+16  8.17490290e+16\n",
                        "  -5.84765738e+16  2.28124721e+16 -3.79769650e+15]\n",
                        " [-3.25894994e+08  4.58061452e+10 -1.56664507e+12  2.23239729e+13\n",
                        "  -1.57044367e+14  5.18957260e+14 -4.44450448e+13 -6.54288251e+15\n",
                        "   2.82056059e+16 -6.46098291e+16  9.31197065e+16 -8.71106058e+16\n",
                        "   5.15298077e+16 -1.75629109e+16  2.63283759e+15]\n",
                        " [ 2.70183588e+08 -3.40225550e+10  9.96942899e+11 -1.09872001e+13\n",
                        "   4.02747496e+13  1.74781320e+14 -2.42835658e+15  1.16119836e+16\n",
                        "  -3.23576312e+16  5.83905918e+16 -7.02996816e+16  5.60910618e+16\n",
                        "  -2.84364994e+16  8.26785549e+15 -1.04435575e+15]\n",
                        " [-1.31318700e+08  1.60839077e+10 -4.49726472e+11  4.48602607e+12\n",
                        "  -9.83599904e+12 -1.44143542e+14  1.37330595e+15 -5.88720386e+15\n",
                        "   1.52046012e+16 -2.54992857e+16  2.82581577e+16 -2.03322052e+16\n",
                        "   8.96284352e+15 -2.11737953e+15  1.87093027e+14]\n",
                        " [ 2.65524493e+07 -3.25653777e+09  9.11733750e+10 -9.14336692e+11\n",
                        "   2.14824914e+12  2.70176026e+13 -2.60686263e+14  1.10522890e+15\n",
                        "  -2.79493523e+15  4.54011904e+15 -4.79572902e+15  3.19784830e+15\n",
                        "  -1.23149420e+15  2.14621750e+14 -3.31268929e+12]]\n",
                        "\n",
                        "\n",
                        "Matrice Inversa di A da numpy: \n",
                        "[[ 1.53807409e+02 -1.18073951e+04  2.96598381e+05 -3.59422847e+06\n",
                        "   2.47335114e+07 -1.04945828e+08  2.85574265e+08 -5.02000298e+08\n",
                        "   5.54759237e+08 -3.57738632e+08  1.27898494e+08 -7.37569043e+07\n",
                        "   9.99216140e+07 -6.73166212e+07  1.61804445e+07]\n",
                        " [-1.18049003e+04  1.21765104e+06 -3.47161307e+07  4.53482315e+08\n",
                        "  -3.29261935e+09  1.46025487e+10 -4.14045656e+10  7.59159223e+10\n",
                        "  -8.76772476e+10  5.79689437e+10 -1.57530492e+10 -4.61664857e+08\n",
                        "  -3.81051277e+09  4.97818226e+09 -1.48591104e+09]\n",
                        " [ 2.96380096e+05 -3.46983115e+07  1.06588288e+09 -1.46741528e+10\n",
                        "   1.11127526e+11 -5.11674680e+11  1.50464185e+12 -2.86441129e+12\n",
                        "   3.43603726e+12 -2.31180248e+12  4.37988951e+11  4.78393125e+11\n",
                        "  -3.03742055e+11  1.97424560e+10  1.73420563e+10]\n",
                        " [-3.58774377e+06  4.52796849e+08 -1.46604785e+10  2.10397364e+11\n",
                        "  -1.65185922e+12  7.86694387e+12 -2.39206314e+13  4.71147886e+13\n",
                        "  -5.83701158e+13  3.95844991e+13 -3.98288270e+12 -1.61490397e+13\n",
                        "   1.28989237e+13 -3.98753503e+12  4.00721760e+11]\n",
                        " [ 2.46373927e+07 -3.28156589e+09  1.10846343e+11 -1.64952399e+12\n",
                        "   1.33869838e+13 -6.58159311e+13  2.06518723e+14 -4.19528589e+14\n",
                        "   5.33617078e+14 -3.59932973e+14 -3.00936543e+12  2.28029968e+14\n",
                        "  -1.92738259e+14  7.12664841e+13 -1.02521786e+13]\n",
                        " [-1.04108667e+08  1.45033812e+10 -5.08969172e+11  7.83894721e+12\n",
                        "  -6.57022723e+13  3.33185661e+14 -1.07719304e+15  2.24922973e+15\n",
                        "  -2.91565063e+15  1.91439495e+15  3.12940699e+14 -1.77115703e+15\n",
                        "   1.51738785e+15 -6.00155483e+14  9.53751796e+13]\n",
                        " [ 2.80899541e+08 -4.08472766e+10  1.48920853e+12 -2.37544195e+13\n",
                        "   2.05736703e+14 -1.07590854e+15  3.57740540e+15 -7.64155380e+15\n",
                        "   9.98189882e+15 -6.11381999e+15 -2.64628287e+15  8.49715325e+15\n",
                        "  -7.21281485e+15  2.93840404e+15 -4.87912367e+14]\n",
                        " [-4.84402867e+08  7.38280385e+10 -2.80713232e+12  4.65127716e+13\n",
                        "  -4.16933194e+14  2.24743149e+15 -7.65854593e+15  1.65881280e+16\n",
                        "  -2.13493431e+16  1.08618273e+16  1.18885620e+16 -2.67315922e+16\n",
                        "   2.20502514e+16 -9.05805107e+15  1.53448644e+15]\n",
                        " [ 5.08835243e+08 -8.22838693e+10  3.29128370e+12 -5.69382497e+13\n",
                        "   5.28905457e+14 -2.92894848e+15  1.01269295e+16 -2.17288720e+16\n",
                        "   2.57735336e+16 -5.22856162e+15 -3.38293268e+16  5.68201224e+16\n",
                        "  -4.44892807e+16  1.80831938e+16 -3.07396674e+15]\n",
                        " [-2.73678226e+08  4.82217952e+10 -2.05760711e+12  3.72819207e+13\n",
                        "  -3.56031741e+14  1.97999071e+15 -6.61034057e+15  1.24281950e+16\n",
                        "  -7.50585390e+15 -2.20067676e+16  6.45820447e+16 -8.22992205e+16\n",
                        "   5.89845360e+16 -2.30909775e+16  3.85915362e+15]\n",
                        " [ 2.03397786e+07 -3.45077329e+09  1.27399359e+11 -1.47128638e+12\n",
                        "  -1.54380706e+12  1.72551533e+14 -1.69452278e+15  8.68958014e+15\n",
                        "  -2.77914263e+16  5.88585143e+16 -8.40781079e+16  8.02437935e+16\n",
                        "  -4.90823571e+16  1.74080948e+16 -2.72322935e+15]\n",
                        " [ 2.04347514e+07 -1.10877852e+10  7.37616376e+11 -1.79694125e+13\n",
                        "   2.21107787e+14 -1.59886890e+15  7.38686130e+15 -2.28842247e+16\n",
                        "   4.87955715e+16 -7.22685999e+16  7.38175708e+16 -5.06234905e+16\n",
                        "   2.20031435e+16 -5.37412332e+15  5.42295088e+14]\n",
                        " [ 4.61450837e+07  2.17572673e+09 -4.44746695e+11  1.37302826e+13\n",
                        "  -1.85689689e+14  1.39190012e+15 -6.42663766e+15  1.92778428e+16\n",
                        "  -3.83998833e+16  5.04909497e+16 -4.18680187e+16  1.88962825e+16\n",
                        "  -1.75711426e+15 -2.10577987e+15  6.72860968e+14]\n",
                        " [-4.92878677e+07  2.99660372e+09  6.48107530e+10 -4.20062594e+12\n",
                        "   6.79251149e+13 -5.49507728e+14  2.62663792e+15 -7.94619633e+15\n",
                        "   1.55637234e+16 -1.93658887e+16  1.38642189e+16 -3.34590501e+15\n",
                        "  -2.66938968e+15  2.28873906e+15 -5.30224296e+14]\n",
                        " [ 1.34888628e+07 -1.19358100e+09  1.09193035e+10  4.23422079e+11\n",
                        "  -9.61733612e+12  8.66202810e+13 -4.34655676e+14  1.34307400e+15\n",
                        "  -2.63116606e+15  3.18055443e+15 -2.03703108e+15  1.01654466e+14\n",
                        "   8.35785123e+14 -5.56648351e+14  1.20997097e+14]]\n",
                        "\n",
                        "\n"
                    ]
                }
            ],
            "source": [
                "#Calcolo l'inversa della matrice di Hilbert\n",
                "n=K.shape[0]\n",
                "\n",
                "Ik = np.identity(n)\n",
                "\n",
                "Xk = np.asmatrix(np.zeros([n,n]))\n",
                "\n",
                "for i in range (0,n):\n",
                "    \n",
                "    #vettore identità per identificare le colonne\n",
                "    ek=np.asmatrix([row[i] for row in Ik])\n",
                "\n",
                "    #print(ek)\n",
                "    \n",
                "    zk = np.linalg.solve(Lk, Pk*ek.T)\n",
                "    yk = np.linalg.solve(Uk, zk)\n",
                "    #x trovata\n",
                "    xk = Qk*yk\n",
                "\n",
                "    for j in range (0,n):\n",
                "        Xk[j,i] = xk[j]\n",
                "          \n",
                "print(\"Matrice Inversa di A da fattorizzazione: \")\n",
                "print(Xk)\n",
                "\n",
                "print(\"\\n\")\n",
                "invNpH = np.linalg.inv(K)\n",
                "print(\"Matrice Inversa di A da numpy: \")\n",
                "print(invNpH)\n",
                "print(\"\\n\")\n"
            ]
        },
        {
            "attachments": {},
            "cell_type": "markdown",
            "metadata": {},
            "source": [
                "### 1.4\n",
                "#### Calcolare il determinante di A usando la fattorizzazione ottenuta al punto 1.1."
            ]
        },
        {
            "cell_type": "code",
            "execution_count": 8,
            "metadata": {},
            "outputs": [
                {
                    "name": "stdout",
                    "output_type": "stream",
                    "text": [
                        "\n",
                        "Determinante di A con Fattorizzazione LU:  -0.041666666666666664\n",
                        "\n",
                        "Determinante di A con numpy:  -0.041666666666666664\n"
                    ]
                }
            ],
            "source": [
                "detL = 1\n",
                "n = A.shape[0]\n",
                "for i in range(0,n):\n",
                "    detL = detL * L[i,i] #determinante di L triangolare inferiore\n",
                "    \n",
                "detU = 1\n",
                "for i in range(0,n):\n",
                "    detU = detU * U[i,i]\n",
                "\n",
                "\n",
                "print(\"\\nDeterminante di A con Fattorizzazione LU: \", detL*detU*pow(-1,permR)*pow(-1,permC))\n",
                "\n",
                "print(\"\\nDeterminante di A con numpy: \", np.linalg.det(A))\n",
                "\n"
            ]
        },
        {
            "attachments": {},
            "cell_type": "markdown",
            "metadata": {},
            "source": [
                "# Esercizio 2"
            ]
        },
        {
            "attachments": {},
            "cell_type": "markdown",
            "metadata": {},
            "source": [
                "Si consideri la seguente funzione $f(x) = x-x^{1/3}-2$. \n"
            ]
        },
        {
            "attachments": {},
            "cell_type": "markdown",
            "metadata": {},
            "source": [
                "### 2.1\n",
                "\n",
                "#### Si faccia un plot di f(x) nell'intervallo [3; 5] insieme all'asse delle ascisse (sempre nell'intervallo [3; 5])."
            ]
        },
        {
            "cell_type": "code",
            "execution_count": 9,
            "metadata": {},
            "outputs": [
                {
                    "name": "stdout",
                    "output_type": "stream",
                    "text": [
                        "Radice trovata con libreria sympy:  3.52137970680457\n"
                    ]
                }
            ],
            "source": [
                "import sympy as sy\n",
                "x = sy.Symbol('x')\n",
                "x_bar=sy.solve(x-(x**(1/3))-2,x)\n",
                "print(\"Radice trovata con libreria sympy: \",x_bar[0])"
            ]
        },
        {
            "attachments": {},
            "cell_type": "markdown",
            "metadata": {},
            "source": [
                "Facciamo un grafico nell'intervallo [3,5]"
            ]
        },
        {
            "cell_type": "code",
            "execution_count": 10,
            "metadata": {},
            "outputs": [
                {
                    "data": {
                        "text/plain": [
                            "<matplotlib.legend.Legend at 0x1cad0790550>"
                        ]
                    },
                    "execution_count": 10,
                    "metadata": {},
                    "output_type": "execute_result"
                },
                {
                    "data": {
                        "image/png": "[encoded data removed]",
                        "text/plain": [
                            "<Figure size 432x288 with 1 Axes>"
                        ]
                    },
                    "metadata": {
                        "needs_background": "light"
                    },
                    "output_type": "display_data"
                }
            ],
            "source": [
                "import numpy as np\n",
                "import matplotlib.pyplot as plt\n",
                "\n",
                "def fx(x):\n",
                "    return (x-(x**(1/3))-2)\n",
                "\n",
                "pts = np.linspace(3,5,500)  #Disegno 500 punti nell'intervallo [3,5]\n",
                "\n",
                "plt.plot(pts,fx(pts),'-k',label='$F(x)$')\n",
                "plt.plot(pts,0*pts,'b',label = '$y=0$')\n",
                "\n",
                "#Vediamo dal grafico che, una stima molto approssimativa della radice di f è 3.52137970680457 (x_bar)\n",
                "#Aggiungiamola in rosso sul grafico:\n",
                "\n",
                "plt.plot(x_bar,0,'pr', label = 'Radice di $f(x)$')\n",
                "plt.legend()"
            ]
        },
        {
            "attachments": {},
            "cell_type": "markdown",
            "metadata": {},
            "source": [
                "### 2.2\n",
                "\n",
                "#### Applicare il metodo delle bisezioni nell’intervallo [3,5] per trovare una stima dello zero $ \\bar{x} $ di $f(x) = x-x^{1/3}-2$. "
            ]
        },
        {
            "attachments": {},
            "cell_type": "markdown",
            "metadata": {},
            "source": [
                "\n",
                "Utilizzo un criterio misto con tolleranza assoluta e relativa"
            ]
        },
        {
            "cell_type": "code",
            "execution_count": 11,
            "metadata": {},
            "outputs": [],
            "source": [
                "def bisezione(fx,a,b,tolA,tolR,it_max):\n",
                "    \n",
                "    f_a = fx(a)\n",
                "    f_b = fx(b)\n",
                "    \n",
                "    #Controllo se il teorema di Bolzano è valido nell'intervallo [a,b] selezionato.\n",
                "    #Altrimenti, non è garantita la presenza dello zero di funzione\n",
                "    if(f_a*f_b>0):\n",
                "        print('Il teorema di Bolzano non è applicabile\\n')\n",
                "        return \n",
                "       \n",
                "    c = (a+b)/2\n",
                "    \n",
                "    #Creo una lista dove memorizzare i valori della successione, prodotti dal metodo.\n",
                "    c_n = [c]\n",
                "    \n",
                "    n_it = 1 #Contatore per il numero di iterazioni\n",
                "    \n",
                "    min_it = np.ceil(np.log2((b-a)/(2*tolA))) #Calcolo una stima delle iterate minime\n",
                "    \n",
                "    print('Numero minimo di iterazioni',min_it)\n",
                "    \n",
                "    \"\"\"\n",
                "    #Metodo con criterio classico\n",
                "    \n",
                "    while((abs(fx(c))>tolA) & (n_it<it_max)):\n",
                "        n_it=n_it+1\n",
                "        if(fx(c)*f_a<0):\n",
                "            b=c\n",
                "        else:\n",
                "            a=c\n",
                "            f_a=fx(a)\n",
                "        c=(a+b)/2\n",
                "        c_n.append(c) #Inserisce il nuovo valore c nella lista\n",
                "        \n",
                "    return(n_it,c,c_n)\n",
                "    \"\"\"\n",
                "\n",
                "\n",
                "    crit_mist=abs((fx(c)/(1+((tolR/tolA)*c)))) #Criterio misto di arresto\n",
                "    \n",
                "    while((crit_mist>tolA) & (n_it<it_max)):\n",
                "        n_it=n_it+1\n",
                "        if(f_a*fx(c)<0):\n",
                "            b=c\n",
                "        else:\n",
                "            a=c\n",
                "            f_a=fx(a)\n",
                "            \n",
                "        c=(a+b)/2\n",
                "        c_n.append(c) #Inserisce il nuovo valore c nella lista\n",
                "        \n",
                "        crit_mist=abs((fx(c)/(1+((tolR/tolA)*c))))\n",
                "        \n",
                "    return(n_it,c,c_n)\n"
            ]
        },
        {
            "cell_type": "code",
            "execution_count": 12,
            "metadata": {},
            "outputs": [
                {
                    "name": "stdout",
                    "output_type": "stream",
                    "text": [
                        "Numero minimo di iterazioni 20.0\n",
                        "\n",
                        " Numero di iterazioni impiegate  17\n",
                        "\n",
                        " Radice trovata con il metodo delle bisezioni  3.5213775634765625\n",
                        "\n",
                        " Valore di f nell approssimazione  -1.8346595602736215e-06\n",
                        "\n",
                        "\n",
                        " Radice trovata con sympy  3.52137970680457\n",
                        "\n",
                        " Valore di f nella radice trovata con sympy  -2.22044604925031e-16\n",
                        "\n",
                        "\n",
                        " Errore relativo  6.08661429130698e-7\n"
                    ]
                }
            ],
            "source": [
                "a=3\n",
                "b=5\n",
                "\n",
                "(n_it,radice,c_n) = bisezione(fx,a,b,tolA=1e-6,tolR=1e-6,it_max=30)\n",
                "\n",
                "err_rel = (abs((radice-x_bar[0]))/abs(x_bar[0]))\n",
                "\n",
                "print('\\n Numero di iterazioni impiegate ', n_it)\n",
                "print('\\n Radice trovata con il metodo delle bisezioni ', radice)\n",
                "print('\\n Valore di f nell approssimazione ', fx(radice))\n",
                "\n",
                "print('\\n\\n Radice trovata con sympy ', x_bar[0])\n",
                "print('\\n Valore di f nella radice trovata con sympy ', fx(x_bar[0]))\n",
                "\n",
                "print('\\n\\n Errore relativo ', err_rel)\n"
            ]
        },
        {
            "attachments": {},
            "cell_type": "markdown",
            "metadata": {},
            "source": [
                "Confrontando con il metodo di Python nativo avremo:"
            ]
        },
        {
            "cell_type": "code",
            "execution_count": 13,
            "metadata": {},
            "outputs": [
                {
                    "name": "stdout",
                    "output_type": "stream",
                    "text": [
                        "      converged: True\n",
                        "           flag: 'converged'\n",
                        " function_calls: 23\n",
                        "     iterations: 21\n",
                        "           root: 3.5213804244995117\n",
                        "\n",
                        " valore di f nell'approssimazione  6.143371185096669e-07\n",
                        "\n",
                        "\n",
                        " Radice trovata con sympy  3.52137970680457\n",
                        "\n",
                        " Radice trovata con il metodo delle bisezioni di numpy  3.5213804244995117\n",
                        "\n",
                        " Errore relativo  2.03810723102766e-7\n"
                    ]
                }
            ],
            "source": [
                "import scipy.optimize\n",
                "\n",
                "rad_f,r = scipy.optimize.bisect(fx,a,b,xtol=1e-6,maxiter=30, full_output=True)\n",
                "err_rel = (abs((rad_f-x_bar[0]))/abs(x_bar[0]))\n",
                "\n",
                "print(r)\n",
                "print(\"\\n valore di f nell'approssimazione \", fx(rad_f))\n",
                "\n",
                "print('\\n\\n Radice trovata con sympy ', x_bar[0])\n",
                "print('\\n Radice trovata con il metodo delle bisezioni di numpy ', rad_f)\n",
                "print('\\n Errore relativo ', err_rel)\n"
            ]
        },
        {
            "attachments": {},
            "cell_type": "markdown",
            "metadata": {},
            "source": [
                "##### Visualizzo l'andamento dell'errore, cioè come il metodo di bisezione, si avvicina a $\\bar{x}$ con l'aumentare delle iterazioni.\n",
                "##### Quindi nel grafico è rappresentato l'errore (avvicinamento a $\\bar{x}$) con l'aumentare delle iterate.\n",
                "### Come si evince dal grafico, l'ordine di convergenza è lineare."
            ]
        },
        {
            "cell_type": "code",
            "execution_count": 14,
            "metadata": {},
            "outputs": [
                {
                    "name": "stdout",
                    "output_type": "stream",
                    "text": [
                        "[5.00000000e-01 2.50000000e-01 1.25000000e-01 6.25000000e-02\n",
                        " 3.12500000e-02 1.56250000e-02 7.81250000e-03 3.90625000e-03\n",
                        " 1.95312500e-03 9.76562500e-04 4.88281250e-04 2.44140625e-04\n",
                        " 1.22070312e-04 6.10351562e-05 3.05175781e-05 1.52587891e-05]\n"
                    ]
                },
                {
                    "data": {
                        "text/plain": [
                            "[<matplotlib.lines.Line2D at 0x1cad2a80a00>]"
                        ]
                    },
                    "execution_count": 14,
                    "metadata": {},
                    "output_type": "execute_result"
                },
                {
                    "data": {
                        "image/png": "[encoded data removed]",
                        "text/plain": [
                            "<Figure size 432x288 with 1 Axes>"
                        ]
                    },
                    "metadata": {
                        "needs_background": "light"
                    },
                    "output_type": "display_data"
                }
            ],
            "source": [
                "lista_errori = np.array(c_n)\n",
                "fine = len(lista_errori)\n",
                "\n",
                "e_approx = abs(lista_errori[1:fine] - lista_errori[0:fine-1])\n",
                "\n",
                "print(e_approx)\n",
                "\n",
                "plt.semilogy(np.linspace(0,n_it,len(e_approx)), e_approx, '-ob')\n"
            ]
        },
        {
            "attachments": {},
            "cell_type": "markdown",
            "metadata": {},
            "source": [
                "### 2.3\n",
                "\n",
                "Determinare quale tra le seguenti funzioni iteratrici puo essere scelta per generare\n",
                "un metodo di iterazione funzionale:\n",
                "\n",
                "1) $f(x) = x^{1/3}+2$ \n",
                "\n",
                "2) $f(x) = (x-2)^{3}$\n",
                "\n",
                "3) $f(x) = 2/9(x-2)^{3/2}$"
            ]
        },
        {
            "attachments": {},
            "cell_type": "markdown",
            "metadata": {},
            "source": [
                "Per scegliere la funzione iteratrice migliore, faremo riferimento al teorema di convergenza locale; quindi troveremo quella funzione tale che la sua derivata prima (calcolata nel punto $\\bar{x}$) sia minore di 1, per assicurare la convergenza ; supponendo di trovarsi nelle condizioni favorevoli del teorema."
            ]
        },
        {
            "cell_type": "code",
            "execution_count": 15,
            "metadata": {},
            "outputs": [],
            "source": [
                "def g1_primo(x):\n",
                "    return 1/(3*x**(2/3))\n",
                "    \n",
                "def g2_primo(x):\n",
                "    return 3*((x-2)**(2))\n",
                "\n",
                "def g3_primo(x):\n",
                "    return ((x-2)**(1/2))/3\n",
                "    "
            ]
        },
        {
            "cell_type": "code",
            "execution_count": 16,
            "metadata": {},
            "outputs": [
                {
                    "name": "stdout",
                    "output_type": "stream",
                    "text": [
                        "0.144013600111032\n",
                        "Le ipotesi del teorema sono verificate\n",
                        "\n",
                        "\n",
                        "6.94378863683025\n",
                        "La g selezionata non è valida\n",
                        "\n",
                        "\n",
                        "0.411147406224279\n",
                        "Le ipotesi del teorema sono verificate\n"
                    ]
                }
            ],
            "source": [
                "if(abs(g1_primo(x_bar[0]))<1): \n",
                "    \n",
                "    print(abs(g1_primo(x_bar[0])))\n",
                "    print('Le ipotesi del teorema sono verificate')\n",
                "    \n",
                "else:\n",
                "    print(abs(g1_primo(x_bar[0])))\n",
                "    print('La g selezionata non è valida')\n",
                "    \n",
                "\n",
                "print(\"\\n\")\n",
                "\n",
                "if(abs(g2_primo(x_bar[0]))<1): \n",
                "    \n",
                "    print(abs(g2_primo(x_bar[0])))\n",
                "    print('Le ipotesi del teorema sono verificate')\n",
                "    \n",
                "else:\n",
                "    print(abs(g2_primo(x_bar[0])))\n",
                "    print('La g selezionata non è valida')\n",
                "\n",
                "print(\"\\n\")\n",
                "\n",
                "if(abs(g3_primo(x_bar[0]))<1): \n",
                "    \n",
                "    print(abs(g3_primo(x_bar[0])))\n",
                "    print('Le ipotesi del teorema sono verificate')\n",
                "    \n",
                "else:\n",
                "    print(abs(g3_primo(x_bar[0])))\n",
                "    print('La g selezionata non è valida')\n",
                "    \n"
            ]
        },
        {
            "attachments": {},
            "cell_type": "markdown",
            "metadata": {},
            "source": [
                "####  Dai risultati, ci accorgiamo che scegliendo la funzione g1 acceleriamo notevolmente la convergenza, rispetto alla funzione g3. \n",
                "####  Ovviamente la funzione g2 non rispetta le condizioni del teorema, quindi non viene considerata."
            ]
        },
        {
            "cell_type": "code",
            "execution_count": 17,
            "metadata": {},
            "outputs": [],
            "source": [
                "def g1(x):\n",
                "    return (x**(1/3))+2\n"
            ]
        },
        {
            "attachments": {},
            "cell_type": "markdown",
            "metadata": {},
            "source": [
                "### 2.4 \n",
                "### Scegliere quindi la funzione iteratrice piu appropriata e calcolare lo zero di f(x) usando il metodo di iterazione funzionale. Motivare la scelta fatta. Scegliere come punto iniziale x0 = 3 e un criterio di arresto a piacere con tolleranza assoluta (e relativa se il criterio lo richiede) di almeno 10−6."
            ]
        },
        {
            "cell_type": "code",
            "execution_count": 18,
            "metadata": {},
            "outputs": [],
            "source": [
                "def it_funzionale(g1,x0,tol,max_it):\n",
                "    \n",
                "    #max_it numero massimo di iterazioni\n",
                "    n_it = 0 # numero di iterazioni\n",
                "    \n",
                "    #Definisco una lista che conterrà le varie approssimazioni x_k\n",
                "    x_k = []\n",
                "    x_k.append(x0)\n",
                "    \n",
                "    #Definisco una lista che conterrà la stima dell'errore ad ogni iterazione\n",
                "    errori = []\n",
                "    errori.append(1) #errore 1 per inizializzare il metodo\n",
                "    \n",
                "    while((errori[-1]>tol) & (n_it<max_it)):\n",
                "        \n",
                "        x_k.append(g1(x_k[n_it])) #x_k+1 := g(x_k)     \n",
                "        errori.append(abs(x_k[n_it]- x_k[n_it+1])) #errore che memorizzo\n",
                "        \n",
                "        n_it = n_it+1\n",
                "        \n",
                "        \n",
                "    return x_k,errori,n_it-1"
            ]
        },
        {
            "cell_type": "code",
            "execution_count": 19,
            "metadata": {},
            "outputs": [
                {
                    "name": "stdout",
                    "output_type": "stream",
                    "text": [
                        "L\"ultimo valore della sequenza generata vale  3.5213796042392627\n",
                        "\n",
                        " Accuratezza raggiunta  6.096264462129852e-07\n",
                        "\n",
                        " Numero di iterazioni impiegate  7\n",
                        "\n",
                        "\n",
                        " Radice trovata con sympy  3.52137970680457\n",
                        "\n",
                        " Radice trovata con il metodo delle iterazioni funzionali  3.5213796042392627\n",
                        "\n",
                        " Errore relativo  2.91264541837326e-8\n"
                    ]
                }
            ],
            "source": [
                "x0 = 3\n",
                "x_k,err, n_it = it_funzionale(g1,x0,1e-6,100)\n",
                "\n",
                "print('L\"ultimo valore della sequenza generata vale ', x_k[-1] )\n",
                "\n",
                "print('\\n Accuratezza raggiunta ', err[-1])\n",
                "print('\\n Numero di iterazioni impiegate ', n_it)\n",
                "\n",
                "\n",
                "err_rel = (abs((x_k[-1]-x_bar[0]))/abs(x_bar[0]))\n",
                "\n",
                "print('\\n\\n Radice trovata con sympy ', x_bar[0])\n",
                "print('\\n Radice trovata con il metodo delle iterazioni funzionali ', x_k[-1])\n",
                "print('\\n Errore relativo ', err_rel)\n"
            ]
        },
        {
            "attachments": {},
            "cell_type": "markdown",
            "metadata": {},
            "source": [
                "##### Plotto un grafico che rappresenta il rapporto tra L'errore e i vari x_k trovati in scala logaritmica"
            ]
        },
        {
            "cell_type": "code",
            "execution_count": 20,
            "metadata": {},
            "outputs": [
                {
                    "name": "stdout",
                    "output_type": "stream",
                    "text": [
                        "[3, 3.4422495703074083, 3.5098974493323554, 3.5197243049916356, 3.5211412690627313, 3.521345367751903, 3.521374761497894, 3.5213789946128164, 3.5213796042392627]\n"
                    ]
                },
                {
                    "data": {
                        "text/plain": [
                            "Text(0.5, 1.0, \"Andamento dell'errore\")"
                        ]
                    },
                    "execution_count": 20,
                    "metadata": {},
                    "output_type": "execute_result"
                },
                {
                    "data": {
                        "image/png": "[encoded data removed]",
                        "text/plain": [
                            "<Figure size 432x288 with 1 Axes>"
                        ]
                    },
                    "metadata": {
                        "needs_background": "light"
                    },
                    "output_type": "display_data"
                }
            ],
            "source": [
                "plt.semilogy(x_k,err,'-ob')\n",
                "print(x_k)\n",
                "plt.xlabel('$x_k$')\n",
                "plt.ylabel('errore')\n",
                "plt.title(\"Andamento dell'errore\")\n"
            ]
        },
        {
            "attachments": {},
            "cell_type": "markdown",
            "metadata": {},
            "source": [
                "##### Plotto un grafico che rappresenta il rapporto tra l'errore e le varie iterazioni trovati in scala logaritmica"
            ]
        },
        {
            "attachments": {},
            "cell_type": "markdown",
            "metadata": {},
            "source": [
                "### Dal grafico notiamo come la convergenza sia lineare"
            ]
        },
        {
            "cell_type": "code",
            "execution_count": 21,
            "metadata": {},
            "outputs": [
                {
                    "data": {
                        "text/plain": [
                            "Text(0.5, 1.0, 'Comportamento errore')"
                        ]
                    },
                    "execution_count": 21,
                    "metadata": {},
                    "output_type": "execute_result"
                },
                {
                    "data": {
                        "image/png": "[encoded data removed]",
                        "text/plain": [
                            "<Figure size 432x288 with 1 Axes>"
                        ]
                    },
                    "metadata": {
                        "needs_background": "light"
                    },
                    "output_type": "display_data"
                }
            ],
            "source": [
                "#Andamento degli errori con le iterazioni\n",
                "plt.semilogy(np.linspace(0,n_it,len(err)),err,'-ob')\n",
                "plt.xlabel('Iterazioni')\n",
                "plt.ylabel(\"Andmento dell'errore con le iterazioni\")\n",
                "plt.title('Comportamento errore')"
            ]
        },
        {
            "attachments": {},
            "cell_type": "markdown",
            "metadata": {},
            "source": [
                "####\n",
                "La convergenza è lineare, perchè $ g1'( \\bar{x} ) \\neq 0 $.\n",
                "\n",
                "Quindi l'ordine di convergenza è 1.\n",
                "\n",
                "\n",
                "Ricordiamo:\n",
                "\n",
                "\n",
                "$g1(x) = x^{1/3}+2$ \n",
                "\n",
                "\n",
                "$g1'(x) = 1/(3*x^{2/3})$ \n"
            ]
        },
        {
            "cell_type": "code",
            "execution_count": 22,
            "metadata": {},
            "outputs": [
                {
                    "name": "stdout",
                    "output_type": "stream",
                    "text": [
                        "\n",
                        "Ultimo punto trovato dalla funzione di iterazione:  3.5213796042392627\n",
                        "\n",
                        "Valore che assume la funzione nell'ultimo punto trovato:  3.5213796920337685\n",
                        "\n",
                        "Con un errore relativo di:  2.4931849375676595e-08\n",
                        "Questo ci fa capire che l'ultimo valore trovato è proprio un punto fisso di g (con un errore)\n",
                        "\n",
                        "\n",
                        "g primo calcolato nel punto x_bar:  0.144013600111032\n"
                    ]
                }
            ],
            "source": [
                "ultimopunto = x_k[-1]\n",
                "punto_fisso = g1(x_k[-1])\n",
                "err_puntofisso = abs(ultimopunto-punto_fisso)/abs(ultimopunto)\n",
                "\n",
                "print(\"\\nUltimo punto trovato dalla funzione di iterazione: \", ultimopunto)\n",
                "print(\"\\nValore che assume la funzione nell'ultimo punto trovato: \", punto_fisso)\n",
                "print(\"\\nCon un errore relativo di: \", err_puntofisso)\n",
                "\n",
                "print(\"Questo ci fa capire che l'ultimo valore trovato è proprio un punto fisso di g (con un errore)\")\n",
                "print(\"\\n\\ng primo calcolato nel punto x_bar: \", g1_primo(x_bar[0]));\n"
            ]
        }
    ],
    "metadata": {
        "anaconda-cloud": {},
        "kernelspec": {
            "display_name": "base",
            "language": "python",
            "name": "python3"
        },
        "language_info": {
            "codemirror_mode": {
                "name": "ipython",
                "version": 3
            },
            "file_extension": ".py",
            "mimetype": "text/x-python",
            "name": "python",
            "nbconvert_exporter": "python",
            "pygments_lexer": "ipython3",
            "version": "3.11.3"
        },
        "vscode": {
            "interpreter": {
                "hash": "f0772a89b7b7552231f8b4808588399a8029470ff763161a0caeccf5fec49431"
            }
        }
    },
    "nbformat": 4,
    "nbformat_minor": 4
}
